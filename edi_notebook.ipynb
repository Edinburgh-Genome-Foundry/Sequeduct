{
 "cells": [
  {
   "cell_type": "code",
   "execution_count": 7,
   "id": "d791c16f-28b2-4c86-aa67-3506fc09992a",
   "metadata": {},
   "outputs": [],
   "source": [
    "import os\n",
    "import pandas as pd\n",
    "from Bio import SeqIO\n",
    "import ediacara as edi\n",
    "\n",
    "entries = pd.read_csv(\"entries.csv\", header=None)\n",
    "# match writeCSV process:\n",
    "entries.columns = [\"projectname\", \"entry\", \"barcode\", \"sample\", \"fasta\", \"vcf\", \"paf\", \"tsv\", \"consensus_fasta\"]\n",
    "\n",
    "entries.sort_values(by=['barcode', 'sample'], ignore_index=True, inplace=True)"
   ]
  },
  {
   "cell_type": "code",
   "execution_count": null,
   "id": "0a6afb47-aeab-484a-a5c3-5a865128c81c",
   "metadata": {},
   "outputs": [],
   "source": [
    "comparatorgroups = []\n",
    "for index, row in entries.iterrows():\n",
    "    print(\"Processing\", row['entry'], end=\"\")\n",
    "    entry = row['entry']\n",
    "    sample = row['sample']\n",
    "    vcf = row['vcf']\n",
    "\n",
    "    reference_gb = row['sample'] + '.gb'\n",
    "    record = SeqIO.read(reference_gb, \"genbank\")\n",
    "    record.id = sample\n",
    "    references = {record.id: record}\n",
    "\n",
    "    tsv_file = row['tsv']\n",
    "    paf_path = row['paf']\n",
    "\n",
    "    tsv = edi.ComparatorGroup.load_tsv(tsv_file)\n",
    "    paf = edi.ComparatorGroup.load_paf(paf_path)\n",
    "\n",
    "    assembly_paths = {\n",
    "        sample: row['consensus_fasta']\n",
    "    }\n",
    "    vcf_paths = {\n",
    "        sample: vcf\n",
    "    }\n",
    "\n",
    "    comparator_group = edi.ComparatorGroup(references=references,\n",
    "                                        alignments={\"paf\": paf, \"tsv\": tsv},\n",
    "                                        barcode=row['barcode'],\n",
    "                                        assembly_paths=assembly_paths,\n",
    "                                        vcf_paths=vcf_paths)\n",
    "\n",
    "    list_of_constructs = [sample]\n",
    "    for element in list_of_constructs:\n",
    "        comparator_group.add_comparator(element)\n",
    "\n",
    "    comparatorgroups += [comparator_group]\n",
    "    print(\"    ... done\")\n",
    "\n",
    "\n",
    "# Create PDF report\n",
    "sequencinggroup = edi.SequencingGroup(comparatorgroups, name=row[\"projectname\"])\n",
    "sequencinggroup.perform_all_comparisons_in_sequencinggroup()\n",
    "edi.write_sequencinggroup_report(target=\"Ediacara_report.pdf\", sequencinggroup=sequencinggroup)"
   ]
  },
  {
   "cell_type": "code",
   "execution_count": null,
   "id": "5af18cc6-f272-4add-9675-bead3c6c962d",
   "metadata": {},
   "outputs": [],
   "source": [
    "barcodes = []\n",
    "samples = []\n",
    "results = []\n",
    "\n",
    "for comparatorgroup in sequencinggroup.comparatorgroups:\n",
    "    for index, row in comparatorgroup.summary_table.iterrows():\n",
    "        barcodes.append(comparatorgroup.barcode)\n",
    "        samples += [row[\"Name\"]]\n",
    "        results += [row[\"Result\"]]\n",
    "\n",
    "d = {\n",
    "    'Barcode': pd.Series(barcodes),\n",
    "    'Sample': pd.Series(samples),\n",
    "    'Result': pd.Series(results),\n",
    "}\n",
    "\n",
    "results_table = pd.DataFrame(d)\n",
    "\n",
    "results_table.to_csv(\"results.csv\", index=False)"
   ]
  }
 ],
 "metadata": {
  "kernelspec": {
   "display_name": "Python 3",
   "language": "python",
   "name": "python3"
  },
  "language_info": {
   "codemirror_mode": {
    "name": "ipython",
    "version": 3
   },
   "file_extension": ".py",
   "mimetype": "text/x-python",
   "name": "python",
   "nbconvert_exporter": "python",
   "pygments_lexer": "ipython3",
   "version": "3.6.13"
  }
 },
 "nbformat": 4,
 "nbformat_minor": 5
}
